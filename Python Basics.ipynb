{
 "cells": [
  {
   "cell_type": "markdown",
   "id": "1b533c9e",
   "metadata": {},
   "source": [
    "# introduction to programming in python"
   ]
  },
  {
   "cell_type": "markdown",
   "id": "a8a3c41e",
   "metadata": {},
   "source": [
    "# topics\n",
    " - print\n",
    " - variables\n",
    " - naming convention\n",
    " - operator"
   ]
  },
  {
   "cell_type": "code",
   "execution_count": 3,
   "id": "32f2ec1a",
   "metadata": {},
   "outputs": [
    {
     "name": "stdout",
     "output_type": "stream",
     "text": [
      "100\n"
     ]
    }
   ],
   "source": [
    "# print\n",
    "# print function print the given values on the console\n",
    "# we print integera without commas\n",
    "print(100)"
   ]
  },
  {
   "cell_type": "markdown",
   "id": "d68b04b5",
   "metadata": {},
   "source": [
    "# types of values we can print\n",
    " - numaric values\n",
    "    - whole numbers(integers) python(int)\n",
    "      example: 1,3 5,100,162,7000,-3,-80\n",
    "    - decimal numbers (decimal) python>>> (float)\n",
    "    \n",
    " - alphabets\n",
    "    - char/sentence/paragraph (string) python (str)\n",
    "    example: \"hello world\"\n",
    "    we can use single,double or triple qouts('',\"\",''''')\n",
    " \n",
    " - boolian values:\n",
    "    true/false in python(True / False)\n",
    "    \n",
    "    \n",
    " - print function can perform with any type of value at a time\n",
    " - (,) is used as seprator\n",
    "   \n",
    " - what all function do we can find it by pressing shift+tab\n",
    " - a docstring will tell all about function working"
   ]
  },
  {
   "cell_type": "code",
   "execution_count": 4,
   "id": "33c35641",
   "metadata": {},
   "outputs": [
    {
     "name": "stdout",
     "output_type": "stream",
     "text": [
      "11\n"
     ]
    }
   ],
   "source": [
    "print(11)"
   ]
  },
  {
   "cell_type": "code",
   "execution_count": 5,
   "id": "da4b86f4",
   "metadata": {},
   "outputs": [
    {
     "name": "stdout",
     "output_type": "stream",
     "text": [
      "500\n"
     ]
    }
   ],
   "source": [
    "print(500)\n"
   ]
  },
  {
   "cell_type": "code",
   "execution_count": 6,
   "id": "b6a45cb5",
   "metadata": {},
   "outputs": [
    {
     "name": "stdout",
     "output_type": "stream",
     "text": [
      "welcome to python\n"
     ]
    }
   ],
   "source": [
    "print(\"welcome to python\")"
   ]
  },
  {
   "cell_type": "code",
   "execution_count": 7,
   "id": "7e26e2d2",
   "metadata": {},
   "outputs": [
    {
     "name": "stdout",
     "output_type": "stream",
     "text": [
      "22.44\n"
     ]
    }
   ],
   "source": [
    "print(22.44)"
   ]
  },
  {
   "cell_type": "code",
   "execution_count": 8,
   "id": "66d3c3c2",
   "metadata": {},
   "outputs": [
    {
     "name": "stdout",
     "output_type": "stream",
     "text": [
      "True\n"
     ]
    }
   ],
   "source": [
    "print(True)"
   ]
  },
  {
   "cell_type": "code",
   "execution_count": 9,
   "id": "a9f288a8",
   "metadata": {},
   "outputs": [
    {
     "name": "stdout",
     "output_type": "stream",
     "text": [
      "182362652\n"
     ]
    }
   ],
   "source": [
    "print(\"182362652\")"
   ]
  },
  {
   "cell_type": "markdown",
   "id": "e4d8310e",
   "metadata": {},
   "source": [
    "# Type funtion\n",
    " - it tells the type of values"
   ]
  },
  {
   "cell_type": "code",
   "execution_count": 14,
   "id": "2c174bdb",
   "metadata": {},
   "outputs": [
    {
     "data": {
      "text/plain": [
       "int"
      ]
     },
     "execution_count": 14,
     "metadata": {},
     "output_type": "execute_result"
    }
   ],
   "source": [
    "type(2333)"
   ]
  },
  {
   "cell_type": "code",
   "execution_count": 11,
   "id": "2646b925",
   "metadata": {},
   "outputs": [
    {
     "data": {
      "text/plain": [
       "bool"
      ]
     },
     "execution_count": 11,
     "metadata": {},
     "output_type": "execute_result"
    }
   ],
   "source": [
    "type(True)"
   ]
  },
  {
   "cell_type": "code",
   "execution_count": 12,
   "id": "f3cf57b6",
   "metadata": {},
   "outputs": [
    {
     "data": {
      "text/plain": [
       "float"
      ]
     },
     "execution_count": 12,
     "metadata": {},
     "output_type": "execute_result"
    }
   ],
   "source": [
    "type(2.5667)"
   ]
  },
  {
   "cell_type": "code",
   "execution_count": 13,
   "id": "a5ec7f2f",
   "metadata": {},
   "outputs": [
    {
     "data": {
      "text/plain": [
       "str"
      ]
     },
     "execution_count": 13,
     "metadata": {},
     "output_type": "execute_result"
    }
   ],
   "source": [
    "type(\"hello\")"
   ]
  },
  {
   "cell_type": "code",
   "execution_count": null,
   "id": "951e1c09",
   "metadata": {},
   "outputs": [],
   "source": [
    "# use of seperator(sep) in print function\n",
    "# we cake make seprator of our own choice"
   ]
  },
  {
   "cell_type": "code",
   "execution_count": 2,
   "id": "5a568b3b",
   "metadata": {},
   "outputs": [
    {
     "name": "stdout",
     "output_type": "stream",
     "text": [
      "111===sara===2.33===True\n"
     ]
    }
   ],
   "source": [
    "print(111, \"sara\", 2.33, True, sep=\"===\")"
   ]
  },
  {
   "cell_type": "code",
   "execution_count": 4,
   "id": "54cd6437",
   "metadata": {},
   "outputs": [
    {
     "name": "stdout",
     "output_type": "stream",
     "text": [
      "111>>>sara>>>2.33>>>True\n"
     ]
    }
   ],
   "source": [
    "print(111, \"sara\", 2.33, True, sep=\">>>\")"
   ]
  },
  {
   "cell_type": "code",
   "execution_count": 5,
   "id": "0e277566",
   "metadata": {},
   "outputs": [
    {
     "name": "stdout",
     "output_type": "stream",
     "text": [
      "111...sara...2.33...True\n"
     ]
    }
   ],
   "source": [
    "print(111, \"sara\", 2.33, True, sep=\"...\")"
   ]
  },
  {
   "cell_type": "code",
   "execution_count": 6,
   "id": "777d7743",
   "metadata": {},
   "outputs": [
    {
     "name": "stdout",
     "output_type": "stream",
     "text": [
      "111+++sara+++2.33+++True\n"
     ]
    }
   ],
   "source": [
    "print(111, \"sara\", 2.33, True, sep=\"+++\")"
   ]
  },
  {
   "cell_type": "markdown",
   "id": "792d4073",
   "metadata": {},
   "source": [
    "# Escape characters in python"
   ]
  },
  {
   "cell_type": "code",
   "execution_count": null,
   "id": "c2628ba7",
   "metadata": {},
   "outputs": [],
   "source": [
    "# use of end  end = \\n"
   ]
  },
  {
   "cell_type": "code",
   "execution_count": 3,
   "id": "2b49f73c",
   "metadata": {},
   "outputs": [
    {
     "name": "stdout",
     "output_type": "stream",
     "text": [
      "i am a student. \n",
      " i am learning python\n"
     ]
    }
   ],
   "source": [
    "print(\"i am a student. \\n i am learning python\")"
   ]
  },
  {
   "cell_type": "code",
   "execution_count": 7,
   "id": "09a60aee",
   "metadata": {},
   "outputs": [
    {
     "name": "stdout",
     "output_type": "stream",
     "text": [
      "i am a student.\ti am learning\tpython\n"
     ]
    }
   ],
   "source": [
    "# use of \\t tab\n",
    "print(\"i am a student.\\ti am learning\\tpython\")"
   ]
  },
  {
   "cell_type": "code",
   "execution_count": null,
   "id": "068e8f3f",
   "metadata": {},
   "outputs": [],
   "source": [
    "#use of \\n"
   ]
  },
  {
   "cell_type": "code",
   "execution_count": 10,
   "id": "a24b7f2c",
   "metadata": {},
   "outputs": [
    {
     "name": "stdout",
     "output_type": "stream",
     "text": [
      "Muhammad Ali Jinnah\n",
      " born Mahomedali Jinnahbhai 25 December 1876 – 11 September 1948 was a barrister, politician and the founder of Pakistan.\n",
      " Jinnah served as the leader of the All-India Muslim League from 1913 until the inception of Pakistan on 14 August 1947,\n",
      " and then as the Dominion of Pakistan's first governor-general until his death.\n",
      " He is revered in Pakistan as the Quaid-e-Azam Great Leader and Baba-e-Qaum Father of the Nation.\n",
      " His birthday is observed as a national holiday in Pakistan.\n"
     ]
    }
   ],
   "source": [
    "print(\"Muhammad Ali Jinnah\\n born Mahomedali Jinnahbhai 25 December 1876 – 11 September 1948 was a barrister, politician and the founder of Pakistan.\\n Jinnah served as the leader of the All-India Muslim League from 1913 until the inception of Pakistan on 14 August 1947,\\n and then as the Dominion of Pakistan's first governor-general until his death.\\n He is revered in Pakistan as the Quaid-e-Azam Great Leader and Baba-e-Qaum Father of the Nation.\\n His birthday is observed as a national holiday in Pakistan.\")"
   ]
  },
  {
   "cell_type": "code",
   "execution_count": 12,
   "id": "b12f221d",
   "metadata": {},
   "outputs": [],
   "source": [
    "# https://www.w3schools.com"
   ]
  },
  {
   "cell_type": "markdown",
   "id": "6024487a",
   "metadata": {},
   "source": [
    "# variables in python\n",
    "  - variable s also called identifiers\n",
    "  - variables are containers / reservoirs to store values\n",
    "  - it has size like 8bit, 16bit, 28bit, 64bit"
   ]
  },
  {
   "cell_type": "code",
   "execution_count": 13,
   "id": "46006602",
   "metadata": {},
   "outputs": [],
   "source": [
    "marks = 90\n",
    "# this mark is variable\n",
    "# = is assingment operator\n",
    "# 90  is an integer value\n",
    "# integer value 90 is assignd to a variable marks\n"
   ]
  },
  {
   "cell_type": "code",
   "execution_count": 14,
   "id": "19ba409b",
   "metadata": {},
   "outputs": [
    {
     "name": "stdout",
     "output_type": "stream",
     "text": [
      "90\n"
     ]
    }
   ],
   "source": [
    "print(marks)"
   ]
  },
  {
   "cell_type": "code",
   "execution_count": 15,
   "id": "84f63867",
   "metadata": {},
   "outputs": [
    {
     "data": {
      "text/plain": [
       "2794480864272"
      ]
     },
     "execution_count": 15,
     "metadata": {},
     "output_type": "execute_result"
    }
   ],
   "source": [
    "# to check the address of any commnad we use id function\n",
    "id(marks)"
   ]
  },
  {
   "cell_type": "code",
   "execution_count": 16,
   "id": "f024d32d",
   "metadata": {},
   "outputs": [
    {
     "data": {
      "text/plain": [
       "int"
      ]
     },
     "execution_count": 16,
     "metadata": {},
     "output_type": "execute_result"
    }
   ],
   "source": [
    "type(marks)"
   ]
  },
  {
   "cell_type": "code",
   "execution_count": 18,
   "id": "0ada2c64",
   "metadata": {},
   "outputs": [],
   "source": [
    "name = \"hassaan\""
   ]
  },
  {
   "cell_type": "code",
   "execution_count": 19,
   "id": "412791f0",
   "metadata": {},
   "outputs": [
    {
     "data": {
      "text/plain": [
       "'hassaan'"
      ]
     },
     "execution_count": 19,
     "metadata": {},
     "output_type": "execute_result"
    }
   ],
   "source": [
    "print(name)"
   ]
  },
  {
   "cell_type": "code",
   "execution_count": 21,
   "id": "90be7243",
   "metadata": {},
   "outputs": [
    {
     "data": {
      "text/plain": [
       "'hassaanmehmood'"
      ]
     },
     "execution_count": 21,
     "metadata": {},
     "output_type": "execute_result"
    }
   ],
   "source": [
    "name + \"mehmood\" # + sign concatenate the string but add the number or integer"
   ]
  },
  {
   "cell_type": "code",
   "execution_count": 22,
   "id": "78014cd7",
   "metadata": {},
   "outputs": [
    {
     "data": {
      "text/plain": [
       "100"
      ]
     },
     "execution_count": 22,
     "metadata": {},
     "output_type": "execute_result"
    }
   ],
   "source": [
    "marks + 10 # it does not effect the memory. it will rwmain 90"
   ]
  },
  {
   "cell_type": "code",
   "execution_count": 23,
   "id": "9f68ac4e",
   "metadata": {},
   "outputs": [
    {
     "data": {
      "text/plain": [
       "70"
      ]
     },
     "execution_count": 23,
     "metadata": {},
     "output_type": "execute_result"
    }
   ],
   "source": [
    "marks - 20"
   ]
  },
  {
   "cell_type": "code",
   "execution_count": 24,
   "id": "05b57f4f",
   "metadata": {},
   "outputs": [],
   "source": [
    "marks1 = marks + 10 # this way we can change the meomry value"
   ]
  },
  {
   "cell_type": "code",
   "execution_count": 25,
   "id": "ae0f3f36",
   "metadata": {},
   "outputs": [
    {
     "data": {
      "text/plain": [
       "100"
      ]
     },
     "execution_count": 25,
     "metadata": {},
     "output_type": "execute_result"
    }
   ],
   "source": [
    "marks1"
   ]
  },
  {
   "cell_type": "code",
   "execution_count": 26,
   "id": "7809dd0d",
   "metadata": {},
   "outputs": [],
   "source": [
    "per = 78.6"
   ]
  },
  {
   "cell_type": "code",
   "execution_count": 27,
   "id": "a09a6f9e",
   "metadata": {},
   "outputs": [
    {
     "data": {
      "text/plain": [
       "168.6"
      ]
     },
     "execution_count": 27,
     "metadata": {},
     "output_type": "execute_result"
    }
   ],
   "source": [
    "marks + per\n",
    "# 100 + 78.6"
   ]
  },
  {
   "cell_type": "code",
   "execution_count": 28,
   "id": "6118184d",
   "metadata": {},
   "outputs": [],
   "source": [
    "ispaid = True"
   ]
  },
  {
   "cell_type": "code",
   "execution_count": 29,
   "id": "94f9b6db",
   "metadata": {},
   "outputs": [
    {
     "data": {
      "text/plain": [
       "True"
      ]
     },
     "execution_count": 29,
     "metadata": {},
     "output_type": "execute_result"
    }
   ],
   "source": [
    "ispaid"
   ]
  },
  {
   "cell_type": "code",
   "execution_count": 30,
   "id": "bf9781db",
   "metadata": {},
   "outputs": [
    {
     "data": {
      "text/plain": [
       "bool"
      ]
     },
     "execution_count": 30,
     "metadata": {},
     "output_type": "execute_result"
    }
   ],
   "source": [
    "type(ispaid)"
   ]
  },
  {
   "cell_type": "markdown",
   "id": "8b7b6222",
   "metadata": {},
   "source": [
    "# variable naming convention\n",
    "  - logically be a true representation of your value\n",
    "  - illegal: \n",
    "          - any word that is used in python like for,while, else, cless\n",
    "            or reserve words/keywords\n",
    "  - variable name will not start with a number\n",
    "  - special characters can not be use in variable names:\n",
    "    example @, -, *, #, $, and so on...\n",
    "  \n",
    "  "
   ]
  },
  {
   "cell_type": "code",
   "execution_count": null,
   "id": "594110e4",
   "metadata": {},
   "outputs": [],
   "source": [
    "# variable names that are best\n",
    "# first_bool_tital\n",
    "# firstBookTital"
   ]
  },
  {
   "cell_type": "markdown",
   "id": "9d7c79f6",
   "metadata": {},
   "source": [
    "# operators\n",
    " - (+) add\n",
    " - (+) concatenate\n",
    " - (-) subtract\n",
    " - (*) multiply\n",
    " - (/) divide (float division)\n",
    " - (//)divide (integer division)\n",
    " - (%) modulus ( remainder in division)\n",
    " -  > greater than\n",
    " -  < less than\n",
    " -  <= less than equal\n",
    " -  >= greater than equal\n",
    " -  == equal\n",
    " -  != not equal\n",
    " "
   ]
  },
  {
   "cell_type": "code",
   "execution_count": 31,
   "id": "d20d1837",
   "metadata": {},
   "outputs": [
    {
     "data": {
      "text/plain": [
       "7"
      ]
     },
     "execution_count": 31,
     "metadata": {},
     "output_type": "execute_result"
    }
   ],
   "source": [
    "3+4"
   ]
  },
  {
   "cell_type": "code",
   "execution_count": 32,
   "id": "5f004f1c",
   "metadata": {},
   "outputs": [
    {
     "data": {
      "text/plain": [
       "2"
      ]
     },
     "execution_count": 32,
     "metadata": {},
     "output_type": "execute_result"
    }
   ],
   "source": [
    "5-3"
   ]
  },
  {
   "cell_type": "code",
   "execution_count": 33,
   "id": "4d45153f",
   "metadata": {},
   "outputs": [
    {
     "data": {
      "text/plain": [
       "9"
      ]
     },
     "execution_count": 33,
     "metadata": {},
     "output_type": "execute_result"
    }
   ],
   "source": [
    "3*3"
   ]
  },
  {
   "cell_type": "code",
   "execution_count": 34,
   "id": "4906b6cb",
   "metadata": {},
   "outputs": [
    {
     "data": {
      "text/plain": [
       "2.0"
      ]
     },
     "execution_count": 34,
     "metadata": {},
     "output_type": "execute_result"
    }
   ],
   "source": [
    "4/2  # this division gives the ansewr in float"
   ]
  },
  {
   "cell_type": "code",
   "execution_count": 35,
   "id": "d6bf5161",
   "metadata": {},
   "outputs": [
    {
     "data": {
      "text/plain": [
       "3"
      ]
     },
     "execution_count": 35,
     "metadata": {},
     "output_type": "execute_result"
    }
   ],
   "source": [
    "6//2  # this divsion gives the answer in integer"
   ]
  },
  {
   "cell_type": "code",
   "execution_count": 36,
   "id": "e91c24db",
   "metadata": {},
   "outputs": [
    {
     "data": {
      "text/plain": [
       "3"
      ]
     },
     "execution_count": 36,
     "metadata": {},
     "output_type": "execute_result"
    }
   ],
   "source": [
    "15 % 4  # it return the remainder"
   ]
  },
  {
   "cell_type": "code",
   "execution_count": 37,
   "id": "dfbc7ad7",
   "metadata": {},
   "outputs": [
    {
     "data": {
      "text/plain": [
       "True"
      ]
     },
     "execution_count": 37,
     "metadata": {},
     "output_type": "execute_result"
    }
   ],
   "source": [
    "12>6"
   ]
  },
  {
   "cell_type": "code",
   "execution_count": 39,
   "id": "dfaae335",
   "metadata": {},
   "outputs": [
    {
     "data": {
      "text/plain": [
       "False"
      ]
     },
     "execution_count": 39,
     "metadata": {},
     "output_type": "execute_result"
    }
   ],
   "source": [
    "1<0"
   ]
  },
  {
   "cell_type": "code",
   "execution_count": 40,
   "id": "4607993c",
   "metadata": {},
   "outputs": [
    {
     "data": {
      "text/plain": [
       "False"
      ]
     },
     "execution_count": 40,
     "metadata": {},
     "output_type": "execute_result"
    }
   ],
   "source": [
    "2!=2"
   ]
  },
  {
   "cell_type": "code",
   "execution_count": 42,
   "id": "0873a7cc",
   "metadata": {},
   "outputs": [
    {
     "data": {
      "text/plain": [
       "True"
      ]
     },
     "execution_count": 42,
     "metadata": {},
     "output_type": "execute_result"
    }
   ],
   "source": [
    "30 ==30"
   ]
  },
  {
   "cell_type": "code",
   "execution_count": null,
   "id": "846074de",
   "metadata": {},
   "outputs": [],
   "source": []
  }
 ],
 "metadata": {
  "kernelspec": {
   "display_name": "Python 3 (ipykernel)",
   "language": "python",
   "name": "python3"
  },
  "language_info": {
   "codemirror_mode": {
    "name": "ipython",
    "version": 3
   },
   "file_extension": ".py",
   "mimetype": "text/x-python",
   "name": "python",
   "nbconvert_exporter": "python",
   "pygments_lexer": "ipython3",
   "version": "3.10.9"
  }
 },
 "nbformat": 4,
 "nbformat_minor": 5
}
