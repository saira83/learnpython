{
 "cells": [
  {
   "cell_type": "markdown",
   "id": "d22405c5",
   "metadata": {},
   "source": [
    "# conditional statements\n",
    " - type casting\n",
    " - user input\n",
    " - string concatenation\n",
    " - strint formation >> (format),f\n",
    " - string functions \n",
    " - if statement\n",
    " - else statement\n",
    " - elif statement\n",
    " - multiple if statements\n",
    " - nested if statements"
   ]
  },
  {
   "cell_type": "markdown",
   "id": "7ec6a816",
   "metadata": {},
   "source": [
    "# string concatination\n",
    "  - joining of two strings together"
   ]
  },
  {
   "cell_type": "code",
   "execution_count": 1,
   "id": "dc6db6b7",
   "metadata": {},
   "outputs": [],
   "source": [
    "firstname = \"abdul\"\n",
    "lastname = \"basit\""
   ]
  },
  {
   "cell_type": "code",
   "execution_count": 2,
   "id": "a7343aa1",
   "metadata": {},
   "outputs": [
    {
     "data": {
      "text/plain": [
       "'abdulbasit'"
      ]
     },
     "execution_count": 2,
     "metadata": {},
     "output_type": "execute_result"
    }
   ],
   "source": [
    "firstname + lastname"
   ]
  },
  {
   "cell_type": "code",
   "execution_count": 3,
   "id": "5ddca57c",
   "metadata": {},
   "outputs": [
    {
     "data": {
      "text/plain": [
       "'pakistanzindabad'"
      ]
     },
     "execution_count": 3,
     "metadata": {},
     "output_type": "execute_result"
    }
   ],
   "source": [
    "\"pakistan\" + \"zindabad\""
   ]
  },
  {
   "cell_type": "code",
   "execution_count": 4,
   "id": "24c93358",
   "metadata": {},
   "outputs": [
    {
     "data": {
      "text/plain": [
       "'irha22'"
      ]
     },
     "execution_count": 4,
     "metadata": {},
     "output_type": "execute_result"
    }
   ],
   "source": [
    "# a string and integer could not concatenate\n",
    "# in that case we have to do type casting\n",
    "\"irha\" + str(22)"
   ]
  },
  {
   "cell_type": "code",
   "execution_count": 7,
   "id": "0fb3a1e4",
   "metadata": {},
   "outputs": [
    {
     "name": "stdout",
     "output_type": "stream",
     "text": [
      "enter your namehuzaifa\n",
      "enter your year of birth2012\n",
      "your name is  huzaifa  and your year of birth is  2012\n"
     ]
    }
   ],
   "source": [
    "# when we concatenate two string or output from input values\n",
    "# year of birth although int value \n",
    "# but due to cosole input it will be assign as string value\n",
    "name = input(\"enter your name\")\n",
    "y_o_b = input(\"enter your year of birth\")\n",
    "print(\"your name is  \"+name+\"  and your year of birth is  \"+  y_o_b)"
   ]
  },
  {
   "cell_type": "code",
   "execution_count": 8,
   "id": "4c22612c",
   "metadata": {},
   "outputs": [
    {
     "name": "stdout",
     "output_type": "stream",
     "text": [
      "enter your nameali\n",
      "enter your age33\n"
     ]
    }
   ],
   "source": [
    "student_name = input(\"enter your name\")\n",
    "student_age = input(\"enter your age\")"
   ]
  },
  {
   "cell_type": "code",
   "execution_count": 9,
   "id": "14f65eff",
   "metadata": {},
   "outputs": [
    {
     "ename": "TypeError",
     "evalue": "can only concatenate str (not \"int\") to str",
     "output_type": "error",
     "traceback": [
      "\u001b[1;31m---------------------------------------------------------------------------\u001b[0m",
      "\u001b[1;31mTypeError\u001b[0m                                 Traceback (most recent call last)",
      "Cell \u001b[1;32mIn[9], line 1\u001b[0m\n\u001b[1;32m----> 1\u001b[0m \u001b[43mstudent_age\u001b[49m\u001b[43m \u001b[49m\u001b[38;5;241;43m+\u001b[39;49m\u001b[43m \u001b[49m\u001b[38;5;241;43m10\u001b[39;49m\n",
      "\u001b[1;31mTypeError\u001b[0m: can only concatenate str (not \"int\") to str"
     ]
    }
   ],
   "source": [
    "student_age + 10\n",
    "# str     +   int"
   ]
  },
  {
   "cell_type": "code",
   "execution_count": 10,
   "id": "4a0a83dc",
   "metadata": {},
   "outputs": [
    {
     "name": "stdout",
     "output_type": "stream",
     "text": [
      "enter your namehassaan\n",
      "enter your age10\n"
     ]
    }
   ],
   "source": [
    "# whenever we take user output in integers we must have to convert int\n",
    "# because in user output int value will return in string type\n",
    "student_name = input(\"enter your name\")\n",
    "student_age = int(input(\"enter your age\"))"
   ]
  },
  {
   "cell_type": "code",
   "execution_count": 11,
   "id": "d04cc945",
   "metadata": {},
   "outputs": [
    {
     "data": {
      "text/plain": [
       "20"
      ]
     },
     "execution_count": 11,
     "metadata": {},
     "output_type": "execute_result"
    }
   ],
   "source": [
    "student_age + 10"
   ]
  },
  {
   "cell_type": "code",
   "execution_count": 12,
   "id": "8efec26a",
   "metadata": {},
   "outputs": [
    {
     "name": "stdout",
     "output_type": "stream",
     "text": [
      "enter your age20.1\n"
     ]
    },
    {
     "ename": "ValueError",
     "evalue": "invalid literal for int() with base 10: '20.1'",
     "output_type": "error",
     "traceback": [
      "\u001b[1;31m---------------------------------------------------------------------------\u001b[0m",
      "\u001b[1;31mValueError\u001b[0m                                Traceback (most recent call last)",
      "Cell \u001b[1;32mIn[12], line 1\u001b[0m\n\u001b[1;32m----> 1\u001b[0m student_age \u001b[38;5;241m=\u001b[39m \u001b[38;5;28;43mint\u001b[39;49m\u001b[43m(\u001b[49m\u001b[38;5;28;43minput\u001b[39;49m\u001b[43m(\u001b[49m\u001b[38;5;124;43m\"\u001b[39;49m\u001b[38;5;124;43menter your age\u001b[39;49m\u001b[38;5;124;43m\"\u001b[39;49m\u001b[43m)\u001b[49m\u001b[43m)\u001b[49m\n",
      "\u001b[1;31mValueError\u001b[0m: invalid literal for int() with base 10: '20.1'"
     ]
    }
   ],
   "source": [
    "student_age = int(input(\"enter your age\"))"
   ]
  },
  {
   "cell_type": "code",
   "execution_count": 13,
   "id": "be912d14",
   "metadata": {},
   "outputs": [
    {
     "name": "stdout",
     "output_type": "stream",
     "text": [
      "enter your age20.5\n"
     ]
    }
   ],
   "source": [
    "student_age = float(input(\"enter your age\"))"
   ]
  },
  {
   "cell_type": "code",
   "execution_count": 15,
   "id": "d83821f5",
   "metadata": {},
   "outputs": [
    {
     "name": "stdout",
     "output_type": "stream",
     "text": [
      " enter your age 20.4\n"
     ]
    }
   ],
   "source": [
    "# if we only want int output then we typecast it twice\n",
    "student_age = int(float(input(\" enter your age \")))"
   ]
  },
  {
   "cell_type": "code",
   "execution_count": 16,
   "id": "446de4a9",
   "metadata": {},
   "outputs": [
    {
     "data": {
      "text/plain": [
       "20"
      ]
     },
     "execution_count": 16,
     "metadata": {},
     "output_type": "execute_result"
    }
   ],
   "source": [
    "student_age"
   ]
  },
  {
   "cell_type": "code",
   "execution_count": 20,
   "id": "04a14ec2",
   "metadata": {},
   "outputs": [
    {
     "name": "stdout",
     "output_type": "stream",
     "text": [
      "enter your name hasim\n",
      "enter your age10\n"
     ]
    },
    {
     "ename": "TypeError",
     "evalue": "can only concatenate str (not \"int\") to str",
     "output_type": "error",
     "traceback": [
      "\u001b[1;31m---------------------------------------------------------------------------\u001b[0m",
      "\u001b[1;31mTypeError\u001b[0m                                 Traceback (most recent call last)",
      "Cell \u001b[1;32mIn[20], line 3\u001b[0m\n\u001b[0;32m      1\u001b[0m student_name \u001b[38;5;241m=\u001b[39m \u001b[38;5;28minput\u001b[39m(\u001b[38;5;124m\"\u001b[39m\u001b[38;5;124menter your name \u001b[39m\u001b[38;5;124m\"\u001b[39m)\n\u001b[0;32m      2\u001b[0m student_age \u001b[38;5;241m=\u001b[39m \u001b[38;5;28mint\u001b[39m(\u001b[38;5;28mfloat\u001b[39m(\u001b[38;5;28minput\u001b[39m(\u001b[38;5;124m\"\u001b[39m\u001b[38;5;124menter your age\u001b[39m\u001b[38;5;124m\"\u001b[39m)))\n\u001b[1;32m----> 3\u001b[0m \u001b[38;5;28mprint\u001b[39m(\u001b[38;5;124;43m\"\u001b[39;49m\u001b[38;5;124;43myour name is  \u001b[39;49m\u001b[38;5;124;43m\"\u001b[39;49m\u001b[38;5;241;43m+\u001b[39;49m\u001b[43mstudent_name\u001b[49m\u001b[38;5;241;43m+\u001b[39;49m\u001b[38;5;124;43m\"\u001b[39;49m\u001b[38;5;124;43m  and your year of birth is  \u001b[39;49m\u001b[38;5;124;43m\"\u001b[39;49m\u001b[38;5;241;43m+\u001b[39;49m\u001b[43m  \u001b[49m\u001b[43mstudent_age\u001b[49m)\n",
      "\u001b[1;31mTypeError\u001b[0m: can only concatenate str (not \"int\") to str"
     ]
    }
   ],
   "source": [
    "student_name = input(\"enter your name \")\n",
    "student_age = int(float(input(\"enter your age\")))\n",
    "print(\"your name is  \"+student_name+\"  and your year of birth is  \"+  student_age)\n",
    "# this code does not work because student_age is in int form\n",
    "# and str and int does not concatenate"
   ]
  },
  {
   "cell_type": "code",
   "execution_count": 1,
   "id": "afd94007",
   "metadata": {},
   "outputs": [
    {
     "name": "stdout",
     "output_type": "stream",
     "text": [
      "enter your name hashim\n",
      "enter your age10\n",
      "your name is  hashim  and your year of birth is  10\n"
     ]
    }
   ],
   "source": [
    "student_name = input(\"enter your name \")\n",
    "student_age = input(\"enter your age\")\n",
    "print(\"your name is  \"+student_name+\"  and your age is  \"+  student_age)"
   ]
  },
  {
   "cell_type": "markdown",
   "id": "08a22f57",
   "metadata": {},
   "source": [
    "# string formation\n",
    "  - format(value1, value2, ...)\n",
    "  - it is easier and simpler than concatenation\n",
    "  - it does not need type casting"
   ]
  },
  {
   "cell_type": "code",
   "execution_count": 4,
   "id": "075679e6",
   "metadata": {},
   "outputs": [
    {
     "data": {
      "text/plain": [
       "'sara'"
      ]
     },
     "execution_count": 4,
     "metadata": {},
     "output_type": "execute_result"
    }
   ],
   "source": [
    "\"sar{}\".format(\"a\")"
   ]
  },
  {
   "cell_type": "code",
   "execution_count": 2,
   "id": "e6a173a8",
   "metadata": {},
   "outputs": [
    {
     "name": "stdout",
     "output_type": "stream",
     "text": [
      "enter your name hashim\n",
      "enter your age 5\n",
      "student name is hashim and student age is 5\n"
     ]
    }
   ],
   "source": [
    "student_name = input(\"enter your name \")\n",
    "student_age = input(\"enter your age \")\n",
    "print(\"student name is {} and student age is {}\".format(student_name, student_age))\n",
    "\n",
    "# {} are the place holders"
   ]
  },
  {
   "cell_type": "code",
   "execution_count": 5,
   "id": "f4dbb00a",
   "metadata": {},
   "outputs": [
    {
     "name": "stdout",
     "output_type": "stream",
     "text": [
      "enter your name huzaifa\n",
      "enter your age 11\n",
      "student name is huzaifa and student age is 11 and student huzaifa is an intelegent cuber at the age of 11\n"
     ]
    }
   ],
   "source": [
    "student_name = input(\"enter your name \")\n",
    "student_age = input(\"enter your age \")\n",
    "print(\"student name is {0} and student age is {1} and student {0} is an intelegent cuber at the age of {1}\".format(student_name, student_age))    \n",
    "# if we assign the index numbers                              0              1\n",
    "# we can reutulize the same value again "
   ]
  },
  {
   "cell_type": "markdown",
   "id": "a1cbc9c3",
   "metadata": {},
   "source": [
    "# string format by f"
   ]
  },
  {
   "cell_type": "code",
   "execution_count": 6,
   "id": "c53cc9eb",
   "metadata": {},
   "outputs": [
    {
     "name": "stdout",
     "output_type": "stream",
     "text": [
      "enter your name hassaan\n",
      "enter your age 10\n",
      "student name is hassaan and student age is 10\n"
     ]
    }
   ],
   "source": [
    "student_name = input(\"enter your name \")\n",
    "student_age = input(\"enter your age \")\n",
    "print(f\"student name is {student_name} and student age is {student_age}\")\n"
   ]
  },
  {
   "cell_type": "markdown",
   "id": "39279d33",
   "metadata": {},
   "source": [
    "# string\n",
    " - string behaviour\n",
    " - string is immuteable (unchangable)"
   ]
  },
  {
   "cell_type": "code",
   "execution_count": 2,
   "id": "2531d315",
   "metadata": {},
   "outputs": [],
   "source": [
    "institute = \"PIAIC\""
   ]
  },
  {
   "cell_type": "code",
   "execution_count": 3,
   "id": "f683120b",
   "metadata": {},
   "outputs": [
    {
     "data": {
      "text/plain": [
       "str"
      ]
     },
     "execution_count": 3,
     "metadata": {},
     "output_type": "execute_result"
    }
   ],
   "source": [
    "type(institute)"
   ]
  },
  {
   "cell_type": "code",
   "execution_count": 4,
   "id": "ad333640",
   "metadata": {},
   "outputs": [
    {
     "data": {
      "text/plain": [
       "'Piaic'"
      ]
     },
     "execution_count": 4,
     "metadata": {},
     "output_type": "execute_result"
    }
   ],
   "source": [
    "institute.capitalize()\n",
    "# original string will not be changed\n",
    "# value will not changed untill it will not reasign"
   ]
  },
  {
   "cell_type": "code",
   "execution_count": 5,
   "id": "984d3b76",
   "metadata": {},
   "outputs": [
    {
     "data": {
      "text/plain": [
       "'piaic'"
      ]
     },
     "execution_count": 5,
     "metadata": {},
     "output_type": "execute_result"
    }
   ],
   "source": [
    "institute.lower()"
   ]
  },
  {
   "cell_type": "code",
   "execution_count": 6,
   "id": "8aabf59a",
   "metadata": {},
   "outputs": [
    {
     "data": {
      "text/plain": [
       "'PIAIC'"
      ]
     },
     "execution_count": 6,
     "metadata": {},
     "output_type": "execute_result"
    }
   ],
   "source": [
    "institute.upper()"
   ]
  },
  {
   "cell_type": "code",
   "execution_count": 7,
   "id": "6f303e8f",
   "metadata": {},
   "outputs": [
    {
     "data": {
      "text/plain": [
       "2"
      ]
     },
     "execution_count": 7,
     "metadata": {},
     "output_type": "execute_result"
    }
   ],
   "source": [
    "institute.count(\"I\")"
   ]
  },
  {
   "cell_type": "code",
   "execution_count": 8,
   "id": "f91f2436",
   "metadata": {},
   "outputs": [
    {
     "ename": "TypeError",
     "evalue": "center expected at least 1 argument, got 0",
     "output_type": "error",
     "traceback": [
      "\u001b[1;31m---------------------------------------------------------------------------\u001b[0m",
      "\u001b[1;31mTypeError\u001b[0m                                 Traceback (most recent call last)",
      "Cell \u001b[1;32mIn[8], line 1\u001b[0m\n\u001b[1;32m----> 1\u001b[0m \u001b[43minstitute\u001b[49m\u001b[38;5;241;43m.\u001b[39;49m\u001b[43mcenter\u001b[49m\u001b[43m(\u001b[49m\u001b[43m)\u001b[49m\n",
      "\u001b[1;31mTypeError\u001b[0m: center expected at least 1 argument, got 0"
     ]
    }
   ],
   "source": [
    "institute.center()"
   ]
  },
  {
   "cell_type": "code",
   "execution_count": 9,
   "id": "0d29efe4",
   "metadata": {},
   "outputs": [
    {
     "data": {
      "text/plain": [
       "-1"
      ]
     },
     "execution_count": 9,
     "metadata": {},
     "output_type": "execute_result"
    }
   ],
   "source": [
    "institute.find(\"a\")\n",
    "# -1 means not exist\n",
    "# find function gives the index number"
   ]
  },
  {
   "cell_type": "code",
   "execution_count": 10,
   "id": "e8a5ebad",
   "metadata": {},
   "outputs": [
    {
     "data": {
      "text/plain": [
       "2"
      ]
     },
     "execution_count": 10,
     "metadata": {},
     "output_type": "execute_result"
    }
   ],
   "source": [
    "institute.find(\"A\")"
   ]
  },
  {
   "cell_type": "code",
   "execution_count": 11,
   "id": "2a9d9833",
   "metadata": {},
   "outputs": [
    {
     "data": {
      "text/plain": [
       "3"
      ]
     },
     "execution_count": 11,
     "metadata": {},
     "output_type": "execute_result"
    }
   ],
   "source": [
    "institute.find('I',3 ) # find 'I' but start finding from index 3"
   ]
  },
  {
   "cell_type": "code",
   "execution_count": 13,
   "id": "5fd16556",
   "metadata": {},
   "outputs": [
    {
     "data": {
      "text/plain": [
       "True"
      ]
     },
     "execution_count": 13,
     "metadata": {},
     "output_type": "execute_result"
    }
   ],
   "source": [
    "institute.isalnum()# is alpha numaric"
   ]
  },
  {
   "cell_type": "code",
   "execution_count": 14,
   "id": "146c8e98",
   "metadata": {},
   "outputs": [
    {
     "data": {
      "text/plain": [
       "True"
      ]
     },
     "execution_count": 14,
     "metadata": {},
     "output_type": "execute_result"
    }
   ],
   "source": [
    "institute.isalpha()# is it alphabet"
   ]
  },
  {
   "cell_type": "code",
   "execution_count": 15,
   "id": "b3d1bc41",
   "metadata": {},
   "outputs": [
    {
     "data": {
      "text/plain": [
       "True"
      ]
     },
     "execution_count": 15,
     "metadata": {},
     "output_type": "execute_result"
    }
   ],
   "source": [
    "institute.isascii()# is it ascii character"
   ]
  },
  {
   "cell_type": "code",
   "execution_count": 16,
   "id": "a59941f8",
   "metadata": {},
   "outputs": [
    {
     "data": {
      "text/plain": [
       "False"
      ]
     },
     "execution_count": 16,
     "metadata": {},
     "output_type": "execute_result"
    }
   ],
   "source": [
    "institute.isdigit()# is it digit"
   ]
  },
  {
   "cell_type": "code",
   "execution_count": null,
   "id": "d20f6f1c",
   "metadata": {},
   "outputs": [],
   "source": [
    "institute."
   ]
  },
  {
   "cell_type": "code",
   "execution_count": 17,
   "id": "321797e7",
   "metadata": {},
   "outputs": [
    {
     "data": {
      "text/plain": [
       "True"
      ]
     },
     "execution_count": 17,
     "metadata": {},
     "output_type": "execute_result"
    }
   ],
   "source": [
    "\"2\".isdigit()"
   ]
  },
  {
   "cell_type": "code",
   "execution_count": 18,
   "id": "946994fb",
   "metadata": {},
   "outputs": [
    {
     "data": {
      "text/plain": [
       "'pakistan'"
      ]
     },
     "execution_count": 18,
     "metadata": {},
     "output_type": "execute_result"
    }
   ],
   "source": [
    "\" pakistan\".lstrip()# it removes the spaces from left side of the string"
   ]
  },
  {
   "cell_type": "code",
   "execution_count": 20,
   "id": "f8352e07",
   "metadata": {},
   "outputs": [
    {
     "data": {
      "text/plain": [
       "'pakistan'"
      ]
     },
     "execution_count": 20,
     "metadata": {},
     "output_type": "execute_result"
    }
   ],
   "source": [
    "\"pakistan \".rstrip()# to remove the space from right side"
   ]
  },
  {
   "cell_type": "code",
   "execution_count": 21,
   "id": "1871f04d",
   "metadata": {},
   "outputs": [
    {
     "data": {
      "text/plain": [
       "'pakistan'"
      ]
     },
     "execution_count": 21,
     "metadata": {},
     "output_type": "execute_result"
    }
   ],
   "source": [
    "\" pakistan \".strip()# it removes the spaces from both sides"
   ]
  },
  {
   "cell_type": "code",
   "execution_count": 22,
   "id": "baa8bc49",
   "metadata": {},
   "outputs": [],
   "source": [
    "# replace function\n",
    "designation = \"president\""
   ]
  },
  {
   "cell_type": "code",
   "execution_count": 23,
   "id": "d928b7e5",
   "metadata": {},
   "outputs": [
    {
     "data": {
      "text/plain": [
       "'PRESIDENT'"
      ]
     },
     "execution_count": 23,
     "metadata": {},
     "output_type": "execute_result"
    }
   ],
   "source": [
    "designation.upper()"
   ]
  },
  {
   "cell_type": "code",
   "execution_count": 24,
   "id": "10bd22cc",
   "metadata": {},
   "outputs": [
    {
     "data": {
      "text/plain": [
       "'president'"
      ]
     },
     "execution_count": 24,
     "metadata": {},
     "output_type": "execute_result"
    }
   ],
   "source": [
    "designation # upper function does not changed the orignal value\n",
    "            # because string is immuteable"
   ]
  },
  {
   "cell_type": "code",
   "execution_count": 25,
   "id": "bde98fb7",
   "metadata": {},
   "outputs": [],
   "source": [
    "designation = designation.upper()"
   ]
  },
  {
   "cell_type": "code",
   "execution_count": 26,
   "id": "71dc05fe",
   "metadata": {},
   "outputs": [
    {
     "data": {
      "text/plain": [
       "'PRESIDENT'"
      ]
     },
     "execution_count": 26,
     "metadata": {},
     "output_type": "execute_result"
    }
   ],
   "source": [
    "designation"
   ]
  },
  {
   "cell_type": "code",
   "execution_count": 27,
   "id": "fbddf62f",
   "metadata": {},
   "outputs": [
    {
     "data": {
      "text/plain": [
       "'pRESIDENT'"
      ]
     },
     "execution_count": 27,
     "metadata": {},
     "output_type": "execute_result"
    }
   ],
   "source": [
    "designation.replace(\"P\",\"p\")# this function replace the specific value \n",
    "                            # which we have to mention"
   ]
  },
  {
   "cell_type": "code",
   "execution_count": 28,
   "id": "b046bc63",
   "metadata": {},
   "outputs": [
    {
     "data": {
      "text/plain": [
       "'PRESIDENT'"
      ]
     },
     "execution_count": 28,
     "metadata": {},
     "output_type": "execute_result"
    }
   ],
   "source": [
    "designation # orignal will remain same"
   ]
  },
  {
   "cell_type": "code",
   "execution_count": 29,
   "id": "7d5a45f7",
   "metadata": {},
   "outputs": [],
   "source": [
    "school = \"piaic\""
   ]
  },
  {
   "cell_type": "code",
   "execution_count": 31,
   "id": "5b901cc8",
   "metadata": {},
   "outputs": [
    {
     "data": {
      "text/plain": [
       "2875556029872"
      ]
     },
     "execution_count": 31,
     "metadata": {},
     "output_type": "execute_result"
    }
   ],
   "source": [
    "id(school)"
   ]
  },
  {
   "cell_type": "code",
   "execution_count": 32,
   "id": "086dfc71",
   "metadata": {},
   "outputs": [
    {
     "data": {
      "text/plain": [
       "'PIAIC'"
      ]
     },
     "execution_count": 32,
     "metadata": {},
     "output_type": "execute_result"
    }
   ],
   "source": [
    "school.upper()"
   ]
  },
  {
   "cell_type": "code",
   "execution_count": null,
   "id": "f7fcdf96",
   "metadata": {},
   "outputs": [],
   "source": []
  }
 ],
 "metadata": {
  "kernelspec": {
   "display_name": "Python 3 (ipykernel)",
   "language": "python",
   "name": "python3"
  },
  "language_info": {
   "codemirror_mode": {
    "name": "ipython",
    "version": 3
   },
   "file_extension": ".py",
   "mimetype": "text/x-python",
   "name": "python",
   "nbconvert_exporter": "python",
   "pygments_lexer": "ipython3",
   "version": "3.10.9"
  }
 },
 "nbformat": 4,
 "nbformat_minor": 5
}
